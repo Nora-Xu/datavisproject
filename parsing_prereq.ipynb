{
 "cells": [
  {
   "cell_type": "markdown",
   "metadata": {},
   "source": [
    "### This file \n",
    "- parses the prerequisite courses from course description\n",
    "- outputs a new spreadsheet with a prerequisite column\n",
    "***"
   ]
  },
  {
   "cell_type": "code",
   "execution_count": 1,
   "metadata": {},
   "outputs": [],
   "source": [
    "import re\n",
    "import pandas as pd"
   ]
  },
  {
   "cell_type": "code",
   "execution_count": 2,
   "metadata": {},
   "outputs": [],
   "source": [
    "## open, read and close spreadsheet1 file\n",
    "f = open('spreadsheet1.csv')\n",
    "data = f.readlines()\n",
    "f.close()"
   ]
  },
  {
   "cell_type": "code",
   "execution_count": 3,
   "metadata": {},
   "outputs": [],
   "source": [
    "## set the new header\n",
    "header = data[0].strip().split(',')\n",
    "header += ['prerequisite']"
   ]
  },
  {
   "cell_type": "code",
   "execution_count": 4,
   "metadata": {},
   "outputs": [],
   "source": [
    "## setup the dictionary to load data\n",
    "data1 = {k:[] for k in header}"
   ]
  },
  {
   "cell_type": "code",
   "execution_count": 5,
   "metadata": {},
   "outputs": [],
   "source": [
    "## iteratively parsing the prerequisite courses from course description\n",
    "for i in range(1,len(data)):\n",
    "    ## split the commas \n",
    "    row = data[i].strip().split(',')\n",
    "    ## get description\n",
    "    descript = ''.join(row[4:])\n",
    "    ## get all the relavant course\n",
    "    pattern = '[A-Z]{2}[A-Z]?\\s?\\d\\d\\d'\n",
    "    courses = list(set(re.findall(pattern, row[-1])))\n",
    "    ## make them into 'CSC401-CSC402' format\n",
    "    str_courses = '-'.join(map(lambda s: s.replace(' ',''), courses))\n",
    "    ## remove prerequisite part in descript\n",
    "    descript = descript.replace('Prerequisite','PREREQUISITE')\n",
    "    descript = descript.split(' PRERE')[0].strip('\"')\n",
    "    ## write row into the dict\n",
    "    data1[header[0]].append(row[0])\n",
    "    data1[header[1]].append(row[1])\n",
    "    data1[header[2]].append(row[2])\n",
    "    data1[header[3]].append(row[3])\n",
    "    data1[header[4]].append(descript)\n",
    "    data1[header[5]].append(str_courses)"
   ]
  },
  {
   "cell_type": "markdown",
   "metadata": {},
   "source": [
    "## output a csv file"
   ]
  },
  {
   "cell_type": "code",
   "execution_count": 6,
   "metadata": {},
   "outputs": [],
   "source": [
    "df = pd.DataFrame(data1)\n",
    "df.to_csv('spreadsheet2.csv', index=False)"
   ]
  }
 ],
 "metadata": {
  "kernelspec": {
   "display_name": "Python 3",
   "language": "python",
   "name": "python3"
  },
  "language_info": {
   "codemirror_mode": {
    "name": "ipython",
    "version": 3
   },
   "file_extension": ".py",
   "mimetype": "text/x-python",
   "name": "python",
   "nbconvert_exporter": "python",
   "pygments_lexer": "ipython3",
   "version": "3.6.5"
  }
 },
 "nbformat": 4,
 "nbformat_minor": 2
}
